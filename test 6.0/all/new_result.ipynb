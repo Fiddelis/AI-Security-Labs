{
 "cells": [
  {
   "cell_type": "markdown",
   "id": "b55e08d2",
   "metadata": {},
   "source": [
    "### Imports"
   ]
  },
  {
   "cell_type": "code",
   "execution_count": 1,
   "id": "f08d1ef7",
   "metadata": {},
   "outputs": [],
   "source": [
    "import os\n",
    "import glob\n",
    "import pandas as pd\n",
    "import matplotlib.pyplot as plt"
   ]
  },
  {
   "cell_type": "markdown",
   "id": "fc749f15",
   "metadata": {},
   "source": [
    "## Redução de linhas por modelo"
   ]
  },
  {
   "cell_type": "markdown",
   "id": "7027459f",
   "metadata": {},
   "source": [
    "## Tempo medio de cada modelo por fontes"
   ]
  },
  {
   "cell_type": "code",
   "execution_count": null,
   "id": "2cda8625",
   "metadata": {},
   "outputs": [],
   "source": []
  },
  {
   "cell_type": "markdown",
   "id": "70937f97",
   "metadata": {},
   "source": [
    "## Precisão dos modelos por fontes"
   ]
  },
  {
   "cell_type": "markdown",
   "id": "8f85c002",
   "metadata": {},
   "source": [
    "### Inferências"
   ]
  },
  {
   "cell_type": "code",
   "execution_count": null,
   "id": "0f352986",
   "metadata": {},
   "outputs": [
    {
     "name": "stdout",
     "output_type": "stream",
     "text": [
      "Test 0: Encontrados 2099 arquivos JSONL.\n",
      "Test 1: Encontrados 2100 arquivos JSONL.\n",
      "Test 2: Encontrados 2100 arquivos JSONL.\n"
     ]
    },
    {
     "ename": "KeyboardInterrupt",
     "evalue": "",
     "output_type": "error",
     "traceback": [
      "\u001b[31m---------------------------------------------------------------------------\u001b[39m",
      "\u001b[31mKeyboardInterrupt\u001b[39m                         Traceback (most recent call last)",
      "\u001b[36mCell\u001b[39m\u001b[36m \u001b[39m\u001b[32mIn[2]\u001b[39m\u001b[32m, line 41\u001b[39m\n\u001b[32m     38\u001b[39m     record = json.loads(line)\n\u001b[32m     39\u001b[39m     analysis_data = extract_analysis_data(record.get(\u001b[33m'\u001b[39m\u001b[33manalysis\u001b[39m\u001b[33m'\u001b[39m, \u001b[33m'\u001b[39m\u001b[33m'\u001b[39m))\n\u001b[32m---> \u001b[39m\u001b[32m41\u001b[39m     all_data = \u001b[43mpd\u001b[49m\u001b[43m.\u001b[49m\u001b[43mconcat\u001b[49m\u001b[43m(\u001b[49m\u001b[43m[\u001b[49m\u001b[43mall_data\u001b[49m\u001b[43m,\u001b[49m\u001b[43m \u001b[49m\u001b[43mpd\u001b[49m\u001b[43m.\u001b[49m\u001b[43mDataFrame\u001b[49m\u001b[43m(\u001b[49m\u001b[43m[\u001b[49m\u001b[43m{\u001b[49m\n\u001b[32m     42\u001b[39m \u001b[43m        \u001b[49m\u001b[33;43m'\u001b[39;49m\u001b[33;43mmodel\u001b[39;49m\u001b[33;43m'\u001b[39;49m\u001b[43m:\u001b[49m\u001b[43m \u001b[49m\u001b[43mmodel\u001b[49m\u001b[43m,\u001b[49m\n\u001b[32m     43\u001b[39m \u001b[43m        \u001b[49m\u001b[33;43m'\u001b[39;49m\u001b[33;43mtype\u001b[39;49m\u001b[33;43m'\u001b[39;49m\u001b[43m:\u001b[49m\u001b[43m \u001b[49m\u001b[38;5;28;43mtype\u001b[39;49m\u001b[43m,\u001b[49m\n\u001b[32m     44\u001b[39m \u001b[43m        \u001b[49m\u001b[33;43m'\u001b[39;49m\u001b[33;43mfont\u001b[39;49m\u001b[33;43m'\u001b[39;49m\u001b[43m:\u001b[49m\u001b[43m \u001b[49m\u001b[43mfont\u001b[49m\u001b[43m,\u001b[49m\n\u001b[32m     45\u001b[39m \u001b[43m        \u001b[49m\u001b[33;43m'\u001b[39;49m\u001b[33;43msource_file\u001b[39;49m\u001b[33;43m'\u001b[39;49m\u001b[43m:\u001b[49m\u001b[43m \u001b[49m\u001b[43mrecord\u001b[49m\u001b[43m.\u001b[49m\u001b[43mget\u001b[49m\u001b[43m(\u001b[49m\u001b[33;43m'\u001b[39;49m\u001b[33;43mfile\u001b[39;49m\u001b[33;43m'\u001b[39;49m\u001b[43m,\u001b[49m\u001b[43m \u001b[49m\u001b[33;43m'\u001b[39;49m\u001b[33;43m'\u001b[39;49m\u001b[43m)\u001b[49m\u001b[43m,\u001b[49m\n\u001b[32m     46\u001b[39m \u001b[43m        \u001b[49m\u001b[33;43m'\u001b[39;49m\u001b[33;43mclassification\u001b[39;49m\u001b[33;43m'\u001b[39;49m\u001b[43m:\u001b[49m\u001b[43m \u001b[49m\u001b[43manalysis_data\u001b[49m\u001b[43m.\u001b[49m\u001b[43mget\u001b[49m\u001b[43m(\u001b[49m\u001b[33;43m'\u001b[39;49m\u001b[33;43mCLASSIFICATION\u001b[39;49m\u001b[33;43m'\u001b[39;49m\u001b[43m,\u001b[49m\u001b[43m \u001b[49m\u001b[33;43m\"\u001b[39;49m\u001b[33;43mNOT INTERESTING\u001b[39;49m\u001b[33;43m\"\u001b[39;49m\u001b[43m)\u001b[49m\u001b[43m \u001b[49m\u001b[38;5;28;43;01mif\u001b[39;49;00m\u001b[43m \u001b[49m\u001b[43manalysis_data\u001b[49m\u001b[43m \u001b[49m\u001b[38;5;28;43;01melse\u001b[39;49;00m\u001b[43m \u001b[49m\u001b[33;43m\"\u001b[39;49m\u001b[33;43mNOT INTERESTING\u001b[39;49m\u001b[33;43m\"\u001b[39;49m\u001b[43m,\u001b[49m\n\u001b[32m     47\u001b[39m \u001b[43m        \u001b[49m\u001b[33;43m'\u001b[39;49m\u001b[33;43mconfidence\u001b[39;49m\u001b[33;43m'\u001b[39;49m\u001b[43m:\u001b[49m\u001b[43m \u001b[49m\u001b[43manalysis_data\u001b[49m\u001b[43m.\u001b[49m\u001b[43mget\u001b[49m\u001b[43m(\u001b[49m\u001b[33;43m'\u001b[39;49m\u001b[33;43mCONFIDENCE\u001b[39;49m\u001b[33;43m'\u001b[39;49m\u001b[43m,\u001b[49m\u001b[43m \u001b[49m\u001b[32;43m0\u001b[39;49m\u001b[43m)\u001b[49m\u001b[43m \u001b[49m\u001b[38;5;28;43;01mif\u001b[39;49;00m\u001b[43m \u001b[49m\u001b[43manalysis_data\u001b[49m\u001b[43m \u001b[49m\u001b[38;5;28;43;01melse\u001b[39;49;00m\u001b[43m \u001b[49m\u001b[32;43m0\u001b[39;49m\u001b[43m,\u001b[49m\n\u001b[32m     48\u001b[39m \u001b[43m        \u001b[49m\u001b[33;43m'\u001b[39;49m\u001b[33;43mtest\u001b[39;49m\u001b[33;43m'\u001b[39;49m\u001b[43m:\u001b[49m\u001b[43m \u001b[49m\u001b[43mtest\u001b[49m\n\u001b[32m     49\u001b[39m \u001b[43m    \u001b[49m\u001b[43m}\u001b[49m\u001b[43m]\u001b[49m\u001b[43m)\u001b[49m\u001b[43m]\u001b[49m\u001b[43m,\u001b[49m\u001b[43m \u001b[49m\u001b[43mignore_index\u001b[49m\u001b[43m=\u001b[49m\u001b[38;5;28;43;01mTrue\u001b[39;49;00m\u001b[43m)\u001b[49m\n\u001b[32m     51\u001b[39m \u001b[38;5;28;01mexcept\u001b[39;00m \u001b[38;5;167;01mException\u001b[39;00m \u001b[38;5;28;01mas\u001b[39;00m e:\n\u001b[32m     52\u001b[39m     \u001b[38;5;28mprint\u001b[39m(\u001b[33mf\u001b[39m\u001b[33m\"\u001b[39m\u001b[33mErro ao processar linha do arquivo \u001b[39m\u001b[38;5;132;01m{\u001b[39;00mfile_path\u001b[38;5;132;01m}\u001b[39;00m\u001b[33m: \u001b[39m\u001b[38;5;132;01m{\u001b[39;00m\u001b[38;5;28mstr\u001b[39m(e)\u001b[38;5;132;01m}\u001b[39;00m\u001b[33m\"\u001b[39m)\n",
      "\u001b[36mFile \u001b[39m\u001b[32mc:\\Users\\lucas\\dev\\AI-Security-Labs\\.venv\\Lib\\site-packages\\pandas\\core\\reshape\\concat.py:395\u001b[39m, in \u001b[36mconcat\u001b[39m\u001b[34m(objs, axis, join, ignore_index, keys, levels, names, verify_integrity, sort, copy)\u001b[39m\n\u001b[32m    380\u001b[39m     copy = \u001b[38;5;28;01mFalse\u001b[39;00m\n\u001b[32m    382\u001b[39m op = _Concatenator(\n\u001b[32m    383\u001b[39m     objs,\n\u001b[32m    384\u001b[39m     axis=axis,\n\u001b[32m   (...)\u001b[39m\u001b[32m    392\u001b[39m     sort=sort,\n\u001b[32m    393\u001b[39m )\n\u001b[32m--> \u001b[39m\u001b[32m395\u001b[39m \u001b[38;5;28;01mreturn\u001b[39;00m \u001b[43mop\u001b[49m\u001b[43m.\u001b[49m\u001b[43mget_result\u001b[49m\u001b[43m(\u001b[49m\u001b[43m)\u001b[49m\n",
      "\u001b[36mFile \u001b[39m\u001b[32mc:\\Users\\lucas\\dev\\AI-Security-Labs\\.venv\\Lib\\site-packages\\pandas\\core\\reshape\\concat.py:684\u001b[39m, in \u001b[36m_Concatenator.get_result\u001b[39m\u001b[34m(self)\u001b[39m\n\u001b[32m    680\u001b[39m             indexers[ax] = obj_labels.get_indexer(new_labels)\n\u001b[32m    682\u001b[39m     mgrs_indexers.append((obj._mgr, indexers))\n\u001b[32m--> \u001b[39m\u001b[32m684\u001b[39m new_data = \u001b[43mconcatenate_managers\u001b[49m\u001b[43m(\u001b[49m\n\u001b[32m    685\u001b[39m \u001b[43m    \u001b[49m\u001b[43mmgrs_indexers\u001b[49m\u001b[43m,\u001b[49m\u001b[43m \u001b[49m\u001b[38;5;28;43mself\u001b[39;49m\u001b[43m.\u001b[49m\u001b[43mnew_axes\u001b[49m\u001b[43m,\u001b[49m\u001b[43m \u001b[49m\u001b[43mconcat_axis\u001b[49m\u001b[43m=\u001b[49m\u001b[38;5;28;43mself\u001b[39;49m\u001b[43m.\u001b[49m\u001b[43mbm_axis\u001b[49m\u001b[43m,\u001b[49m\u001b[43m \u001b[49m\u001b[43mcopy\u001b[49m\u001b[43m=\u001b[49m\u001b[38;5;28;43mself\u001b[39;49m\u001b[43m.\u001b[49m\u001b[43mcopy\u001b[49m\n\u001b[32m    686\u001b[39m \u001b[43m\u001b[49m\u001b[43m)\u001b[49m\n\u001b[32m    687\u001b[39m \u001b[38;5;28;01mif\u001b[39;00m \u001b[38;5;129;01mnot\u001b[39;00m \u001b[38;5;28mself\u001b[39m.copy \u001b[38;5;129;01mand\u001b[39;00m \u001b[38;5;129;01mnot\u001b[39;00m using_copy_on_write():\n\u001b[32m    688\u001b[39m     new_data._consolidate_inplace()\n",
      "\u001b[36mFile \u001b[39m\u001b[32mc:\\Users\\lucas\\dev\\AI-Security-Labs\\.venv\\Lib\\site-packages\\pandas\\core\\internals\\concat.py:189\u001b[39m, in \u001b[36mconcatenate_managers\u001b[39m\u001b[34m(mgrs_indexers, axes, concat_axis, copy)\u001b[39m\n\u001b[32m    187\u001b[39m     fastpath = blk.values.dtype == values.dtype\n\u001b[32m    188\u001b[39m \u001b[38;5;28;01melse\u001b[39;00m:\n\u001b[32m--> \u001b[39m\u001b[32m189\u001b[39m     values = \u001b[43m_concatenate_join_units\u001b[49m\u001b[43m(\u001b[49m\u001b[43mjoin_units\u001b[49m\u001b[43m,\u001b[49m\u001b[43m \u001b[49m\u001b[43mcopy\u001b[49m\u001b[43m=\u001b[49m\u001b[43mcopy\u001b[49m\u001b[43m)\u001b[49m\n\u001b[32m    190\u001b[39m     fastpath = \u001b[38;5;28;01mFalse\u001b[39;00m\n\u001b[32m    192\u001b[39m \u001b[38;5;28;01mif\u001b[39;00m fastpath:\n",
      "\u001b[36mFile \u001b[39m\u001b[32mc:\\Users\\lucas\\dev\\AI-Security-Labs\\.venv\\Lib\\site-packages\\pandas\\core\\internals\\concat.py:486\u001b[39m, in \u001b[36m_concatenate_join_units\u001b[39m\u001b[34m(join_units, copy)\u001b[39m\n\u001b[32m    483\u001b[39m     concat_values = ensure_block_shape(concat_values, \u001b[32m2\u001b[39m)\n\u001b[32m    485\u001b[39m \u001b[38;5;28;01melse\u001b[39;00m:\n\u001b[32m--> \u001b[39m\u001b[32m486\u001b[39m     concat_values = \u001b[43mconcat_compat\u001b[49m\u001b[43m(\u001b[49m\u001b[43mto_concat\u001b[49m\u001b[43m,\u001b[49m\u001b[43m \u001b[49m\u001b[43maxis\u001b[49m\u001b[43m=\u001b[49m\u001b[32;43m1\u001b[39;49m\u001b[43m)\u001b[49m\n\u001b[32m    488\u001b[39m \u001b[38;5;28;01mif\u001b[39;00m empty_dtype != empty_dtype_future:\n\u001b[32m    489\u001b[39m     \u001b[38;5;28;01mif\u001b[39;00m empty_dtype == concat_values.dtype:\n\u001b[32m    490\u001b[39m         \u001b[38;5;66;03m# GH#39122, GH#40893\u001b[39;00m\n",
      "\u001b[36mFile \u001b[39m\u001b[32mc:\\Users\\lucas\\dev\\AI-Security-Labs\\.venv\\Lib\\site-packages\\pandas\\core\\dtypes\\concat.py:144\u001b[39m, in \u001b[36mconcat_compat\u001b[39m\u001b[34m(to_concat, axis, ea_compat_axis)\u001b[39m\n\u001b[32m    142\u001b[39m \u001b[38;5;28;01melse\u001b[39;00m:\n\u001b[32m    143\u001b[39m     to_concat_arrs = cast(\u001b[33m\"\u001b[39m\u001b[33mSequence[np.ndarray]\u001b[39m\u001b[33m\"\u001b[39m, to_concat)\n\u001b[32m--> \u001b[39m\u001b[32m144\u001b[39m     result = \u001b[43mnp\u001b[49m\u001b[43m.\u001b[49m\u001b[43mconcatenate\u001b[49m\u001b[43m(\u001b[49m\u001b[43mto_concat_arrs\u001b[49m\u001b[43m,\u001b[49m\u001b[43m \u001b[49m\u001b[43maxis\u001b[49m\u001b[43m=\u001b[49m\u001b[43maxis\u001b[49m\u001b[43m)\u001b[49m\n\u001b[32m    146\u001b[39m     \u001b[38;5;28;01mif\u001b[39;00m \u001b[38;5;129;01mnot\u001b[39;00m any_ea \u001b[38;5;129;01mand\u001b[39;00m \u001b[33m\"\u001b[39m\u001b[33mb\u001b[39m\u001b[33m\"\u001b[39m \u001b[38;5;129;01min\u001b[39;00m kinds \u001b[38;5;129;01mand\u001b[39;00m result.dtype.kind \u001b[38;5;129;01min\u001b[39;00m \u001b[33m\"\u001b[39m\u001b[33miuf\u001b[39m\u001b[33m\"\u001b[39m:\n\u001b[32m    147\u001b[39m         \u001b[38;5;66;03m# GH#39817 cast to object instead of casting bools to numeric\u001b[39;00m\n\u001b[32m    148\u001b[39m         result = result.astype(\u001b[38;5;28mobject\u001b[39m, copy=\u001b[38;5;28;01mFalse\u001b[39;00m)\n",
      "\u001b[31mKeyboardInterrupt\u001b[39m: "
     ]
    }
   ],
   "source": [
    "import pandas as pd\n",
    "import json\n",
    "import glob\n",
    "import re\n",
    "from pathlib import Path\n",
    "\n",
    "def extract_analysis_data(analysis_str):\n",
    "    match = re.search(r\"```json\\s*(\\{.*?\\})\\s*```\", analysis_str, re.DOTALL)\n",
    "    if not match:\n",
    "        match = re.search(r\"\\{[^{}]*\\\"CLASSIFICATION\\\"[^{}]*\\}\", analysis_str, re.DOTALL)\n",
    "    if match:\n",
    "        try:\n",
    "            return json.loads(match.group(1 if '```' in match.group(0) else 0))\n",
    "        except json.JSONDecodeError:\n",
    "            return None\n",
    "    return None\n",
    "\n",
    "all_data = pd.DataFrame()\n",
    "\n",
    "for test in range(12):\n",
    "    files = glob.glob(f'{test}/inference/**/*.jsonl', recursive=True)\n",
    "    print(f\"Test {test}: Encontrados {len(files)} arquivos JSONL.\")\n",
    "    \n",
    "    # {test}/inference/{model}/{data|filtering}/{font}/{type}/data.jsonl\n",
    "    for file_path in files:\n",
    "        path = Path(file_path)\n",
    "        model = path.parts[2]\n",
    "        if(path.parts[3] == \"data\"):\n",
    "            font = path.parts[3]\n",
    "            type = path.parts[4]\n",
    "        else:\n",
    "            font = path.parts[4]\n",
    "            type = path.parts[5]\n",
    "        \n",
    "        with open(file_path, 'r', encoding='utf-8') as f:\n",
    "            for line in f:\n",
    "                try:\n",
    "                    record = json.loads(line)\n",
    "                    analysis_data = extract_analysis_data(record.get('analysis', ''))\n",
    "\n",
    "                    all_data = pd.concat([all_data, pd.DataFrame([{\n",
    "                        'model': model,\n",
    "                        'type': type,\n",
    "                        'font': font,\n",
    "                        'source_file': record.get('file', ''),\n",
    "                        'classification': analysis_data.get('CLASSIFICATION', \"NOT INTERESTING\") if analysis_data else \"NOT INTERESTING\",\n",
    "                        'confidence': analysis_data.get('CONFIDENCE', 0) if analysis_data else 0,\n",
    "                        'test': test\n",
    "                    }])], ignore_index=True)\n",
    "\n",
    "                except Exception as e:\n",
    "                    print(f\"Erro ao processar linha do arquivo {file_path}: {str(e)}\")\n",
    "\n",
    "print(\"-----------------------------------\")\n",
    "print(f\"Total de registros processados: {len(all_data)}\")\n",
    "print(\"\\nPrimeiros registros:\")\n",
    "display(all_data)\n",
    "all_data.to_csv(\"classifications.csv\", index=False)\n"
   ]
  },
  {
   "cell_type": "markdown",
   "id": "a3ad0262",
   "metadata": {},
   "source": [
    "### Métricas"
   ]
  },
  {
   "cell_type": "markdown",
   "id": "92a4a081",
   "metadata": {},
   "source": [
    "### Gerando inferências concretas"
   ]
  },
  {
   "cell_type": "code",
   "execution_count": null,
   "id": "5c75cf59",
   "metadata": {},
   "outputs": [
    {
     "name": "stderr",
     "output_type": "stream",
     "text": [
      "C:\\Users\\lucas\\AppData\\Local\\Temp\\ipykernel_10796\\1031946373.py:44: DeprecationWarning: DataFrameGroupBy.apply operated on the grouping columns. This behavior is deprecated, and in a future version of pandas the grouping columns will be excluded from the operation. Either pass `include_groups=False` to exclude the groupings or explicitly select the grouping columns after groupby to silence this warning.\n",
      "  .apply(process_group)\n"
     ]
    }
   ],
   "source": [
    "import pandas as pd\n",
    "\n",
    "def process_group(group):\n",
    "    if group.empty:\n",
    "        return pd.DataFrame()\n",
    "    \n",
    "    model = group['model'].iloc[0]\n",
    "    source_file = group['source_file'].iloc[0]\n",
    "    type_ = group['type'].iloc[0]\n",
    "    font = group['font'].iloc[0]\n",
    "    test = group['test'].iloc[0]\n",
    "\n",
    "    # Contar ocorrências de cada classificação\n",
    "    class_counts = group['classification'].value_counts()\n",
    "    max_count = class_counts.max()\n",
    "    \n",
    "    # Identificar classes com contagem máxima (podem ser múltiplas em caso de empate)\n",
    "    top_classes = class_counts[class_counts == max_count].index.tolist()\n",
    "    \n",
    "    # Critério de desempate: priorizar 'INTERESTING'\n",
    "    if len(top_classes) > 1 and 'INTERESTING' in top_classes:\n",
    "        majority_class = 'INTERESTING'\n",
    "    else:\n",
    "        majority_class = class_counts.idxmax()\n",
    "\n",
    "    consolidated = pd.DataFrame({\n",
    "        'model': [model],\n",
    "        'font': [font],\n",
    "        'source_file': [source_file],\n",
    "        'type': [type_],\n",
    "        'classification': [majority_class],\n",
    "        'confidence': [group['confidence'].mean()],\n",
    "        'test': [test]\n",
    "    })\n",
    "    \n",
    "    return consolidated\n",
    "\n",
    "df = pd.read_csv('classifications.csv')\n",
    "df['confidence'] = pd.to_numeric(df['confidence'], errors='coerce')\n",
    "df = df.dropna(subset=['confidence'])\n",
    "\n",
    "processed = (\n",
    "    df.groupby(['model', 'test', 'source_file'], group_keys=False)\n",
    "    .apply(process_group)\n",
    "    .reset_index(drop=True)\n",
    ")\n",
    "\n",
    "# Salvar resultado\n",
    "final_df = processed[['model', 'font', 'source_file', 'type', 'classification', 'confidence', 'test']]\n",
    "final_df.to_csv('consolidated_classifications.csv', index=False)\n"
   ]
  },
  {
   "cell_type": "markdown",
   "id": "8839dfaa",
   "metadata": {},
   "source": [
    "## Comitê"
   ]
  },
  {
   "cell_type": "markdown",
   "id": "7fe055c7",
   "metadata": {},
   "source": [
    "#### Voto Majoritário"
   ]
  },
  {
   "cell_type": "code",
   "execution_count": null,
   "id": "34a1017a",
   "metadata": {},
   "outputs": [],
   "source": [
    "# Generate all combinations of models\n",
    "import itertools\n",
    "df = pd.read_csv('consolidated_classifications.csv')\n",
    "df[\"model\"] = df[\"model\"].replace({\n",
    "    \"deepseek-r1_14b\": \"deepseek-r1_14b_no_think\",\n",
    "    \"qwen3_14b\": \"qwen3_14b_no_think\"\n",
    "})\n",
    "df.to_csv('consolidated_classifications.csv', index=False)\n",
    "\n",
    "models = df['model'].unique()\n",
    "\n",
    "comb_2 = list(itertools.combinations(models, 2))\n",
    "comb_3 = list(itertools.combinations(models, 3))"
   ]
  },
  {
   "cell_type": "code",
   "execution_count": null,
   "id": "88e058cd",
   "metadata": {},
   "outputs": [],
   "source": [
    "import pandas as pd\n",
    "\n",
    "# 1) Leitura dos dados\n",
    "df = pd.read_csv(\"consolidated_classifications.csv\")\n",
    "\n",
    "# 2) Resultado acumulado\n",
    "results_vote_majority = pd.DataFrame()\n",
    "\n",
    "# 3) Loop pelas combinações (agora como lista de tuplas)\n",
    "for model_1, model_2, model_3 in comb_3:\n",
    "    committee_models = [model_1, model_2, model_3]\n",
    "\n",
    "    # Filtra somente os dados dos modelos da combinação\n",
    "    df_comm = df[df[\"model\"].isin(committee_models)]\n",
    "    if df_comm.empty:\n",
    "        continue\n",
    "\n",
    "    # Voto majoritário por test + source_file\n",
    "    vote = (\n",
    "        df_comm\n",
    "        .groupby([\"test\", \"source_file\"])[\"classification\"]\n",
    "        .agg(lambda x: x.value_counts().idxmax())\n",
    "    )\n",
    "\n",
    "    # Metadados auxiliares\n",
    "    meta = (\n",
    "        df_comm\n",
    "        .groupby([\"test\", \"source_file\"])\n",
    "        .agg({\n",
    "            \"font\": \"first\",\n",
    "            \"type\": \"first\"\n",
    "        })\n",
    "    )\n",
    "\n",
    "    # Cria DataFrame de saída para essa combinação\n",
    "    vote_df = pd.DataFrame({\n",
    "        \"vote\": \"majority_vote\",\n",
    "        \"model_1\": model_1,\n",
    "        \"model_2\": model_2,\n",
    "        \"model_3\": model_3,\n",
    "        \"test\": meta.index.get_level_values(\"test\"),\n",
    "        \"font\": meta[\"font\"].values,\n",
    "        \"source_file\": meta.index.get_level_values(\"source_file\"),\n",
    "        \"type\": meta[\"type\"].values,\n",
    "        \"classification\": vote.values\n",
    "    })\n",
    "\n",
    "    # Adiciona ao acumulador\n",
    "    results_vote_majority = pd.concat([results_vote_majority, vote_df], ignore_index=True)\n",
    "\n",
    "# 4) Salva o resultado final\n",
    "results_vote_majority.to_csv(\"consolidated_classifications_with_vote.csv\", index=False, encoding=\"utf-8\")\n"
   ]
  },
  {
   "cell_type": "markdown",
   "id": "b1c66760",
   "metadata": {},
   "source": [
    "#### Votação Ponderada por Confiança"
   ]
  },
  {
   "cell_type": "code",
   "execution_count": null,
   "id": "d44affc9",
   "metadata": {},
   "outputs": [],
   "source": [
    "import pandas as pd\n",
    "\n",
    "def weighted_vote_classification(group: pd.DataFrame) -> str:\n",
    "    \"\"\"\n",
    "    Retorna a classificação com maior soma de confiança no grupo.\n",
    "    \"\"\"\n",
    "    sums = group.groupby(\"classification\")[\"confidence\"].sum()\n",
    "    return sums.idxmax()\n",
    "\n",
    "INPUT_CSV_CLASSIFICATIONS = \"consolidated_classifications.csv\"\n",
    "OUTPUT_CSV_VOTES          = \"consolidated_classifications_with_vote.csv\"\n",
    "\n",
    "# 1) Carrega as inferências originais (para gerar os votos ponderados)\n",
    "df = pd.read_csv(INPUT_CSV_CLASSIFICATIONS)\n",
    "df[\"confidence\"] = pd.to_numeric(df[\"confidence\"], errors=\"coerce\")\n",
    "df = df.dropna(subset=[\"confidence\"])\n",
    "\n",
    "# 2) Carrega o CSV que já tem os votos majoritários\n",
    "df_existing_votes = pd.read_csv(OUTPUT_CSV_VOTES)\n",
    "\n",
    "# 3) Acumulador dos novos votos ponderados\n",
    "results_weighted = pd.DataFrame()\n",
    "\n",
    "# 4) Função para processar cada comitê\n",
    "def process_combination(models, is_comb_3=True):\n",
    "    df_comm = df[df[\"model\"].isin(models)].copy()\n",
    "    if df_comm.empty:\n",
    "        return pd.DataFrame()\n",
    "\n",
    "    vote = (\n",
    "        df_comm\n",
    "        .groupby([\"test\", \"source_file\"], group_keys=False)\n",
    "        .apply(weighted_vote_classification)\n",
    "        .rename(\"classification\")\n",
    "    )\n",
    "\n",
    "    meta = (\n",
    "        df_comm\n",
    "        .groupby([\"test\", \"source_file\"])\n",
    "        .agg({\n",
    "            \"font\": \"first\",\n",
    "            \"type\": \"first\"\n",
    "        })\n",
    "    )\n",
    "\n",
    "    model_1 = models[0]\n",
    "    model_2 = models[1]\n",
    "    model_3 = models[2] if is_comb_3 else \"\"\n",
    "\n",
    "    result = pd.DataFrame({\n",
    "        \"model_1\": model_1,\n",
    "        \"model_2\": model_2,\n",
    "        \"model_3\": model_3,\n",
    "        \"test\": meta.index.get_level_values(\"test\"),\n",
    "        \"font\": meta[\"font\"].values,\n",
    "        \"source_file\": meta.index.get_level_values(\"source_file\"),\n",
    "        \"type\": meta[\"type\"].values,\n",
    "        \"classification\": vote.values,\n",
    "        \"vote\": \"weighted_vote\"  # marca como ponderado\n",
    "    })\n",
    "\n",
    "    return result\n",
    "\n",
    "# 5) Processa todas as combinações de 3 modelos\n",
    "for comb in comb_3:\n",
    "    result_df = process_combination(comb, is_comb_3=True)\n",
    "    results_weighted = pd.concat([results_weighted, result_df], ignore_index=True)\n",
    "\n",
    "# 6) Processa todas as combinações de 2 modelos\n",
    "for comb in comb_2:\n",
    "    result_df = process_combination(comb, is_comb_3=False)\n",
    "    results_weighted = pd.concat([results_weighted, result_df], ignore_index=True)\n",
    "\n",
    "# 7) Concatena os votos ponderados com os já existentes (ex: votos majoritários)\n",
    "df_final = pd.concat([df_existing_votes, results_weighted], ignore_index=True)\n",
    "\n",
    "# 8) Salva no mesmo arquivo\n",
    "df_final.to_csv(OUTPUT_CSV_VOTES, index=False, encoding=\"utf-8\")\n"
   ]
  },
  {
   "cell_type": "markdown",
   "id": "96109937",
   "metadata": {},
   "source": [
    "#### Seleção Dinâmica de Modelo"
   ]
  },
  {
   "cell_type": "code",
   "execution_count": null,
   "id": "25878047",
   "metadata": {},
   "outputs": [
    {
     "name": "stderr",
     "output_type": "stream",
     "text": [
      "C:\\Users\\lucas\\AppData\\Local\\Temp\\ipykernel_10796\\3308907919.py:12: DtypeWarning: Columns (3) have mixed types. Specify dtype option on import or set low_memory=False.\n",
      "  df_existing_votes = pd.read_csv(OUTPUT_CSV_VOTES)\n"
     ]
    }
   ],
   "source": [
    "import pandas as pd\n",
    "\n",
    "INPUT_CSV_CLASSIFICATIONS = \"consolidated_classifications.csv\"\n",
    "OUTPUT_CSV_VOTES          = \"consolidated_classifications_with_vote.csv\"\n",
    "\n",
    "# 1) Carrega as inferências\n",
    "df = pd.read_csv(INPUT_CSV_CLASSIFICATIONS)\n",
    "df[\"confidence\"] = pd.to_numeric(df[\"confidence\"], errors=\"coerce\")\n",
    "df = df.dropna(subset=[\"confidence\"])\n",
    "\n",
    "# 2) Carrega votos já existentes (voto majoritário e ponderado)\n",
    "df_existing_votes = pd.read_csv(OUTPUT_CSV_VOTES)\n",
    "\n",
    "# 3) Acumulador dos novos votos por seleção dinâmica\n",
    "results_dynamic = pd.DataFrame()\n",
    "\n",
    "# 4) Função para processar cada comitê\n",
    "def process_combination_dynamic(models, is_comb_3=True):\n",
    "    df_comm = df[df[\"model\"].isin(models)].copy()\n",
    "    if df_comm.empty:\n",
    "        return pd.DataFrame()\n",
    "\n",
    "    # Ordena por confiança e pega o primeiro de cada (test, source_file)\n",
    "    df_selected = (\n",
    "        df_comm\n",
    "        .sort_values([\"test\", \"source_file\", \"confidence\"], ascending=[True, True, False])\n",
    "        .groupby([\"test\", \"source_file\"], as_index=False)\n",
    "        .first()\n",
    "        .assign(vote=\"dynamic_selection\")\n",
    "    )\n",
    "\n",
    "    # Adiciona colunas de identificação do comitê\n",
    "    df_selected[\"model_1\"] = models[0]\n",
    "    df_selected[\"model_2\"] = models[1]\n",
    "    df_selected[\"model_3\"] = models[2] if is_comb_3 else \"\"\n",
    "\n",
    "    return df_selected[[\n",
    "        \"model_1\", \"model_2\", \"model_3\", \"test\",\n",
    "        \"font\", \"source_file\", \"type\", \"classification\", \"vote\"\n",
    "    ]]\n",
    "\n",
    "# 5) Processa todas as combinações de 3 modelos\n",
    "for comb in comb_3:\n",
    "    df_result = process_combination_dynamic(comb, is_comb_3=True)\n",
    "    results_dynamic = pd.concat([results_dynamic, df_result], ignore_index=True)\n",
    "\n",
    "# 6) Processa todas as combinações de 2 modelos\n",
    "for comb in comb_2:\n",
    "    df_result = process_combination_dynamic(comb, is_comb_3=False)\n",
    "    results_dynamic = pd.concat([results_dynamic, df_result], ignore_index=True)\n",
    "\n",
    "# 7) Junta com os votos anteriores e salva\n",
    "df_final = pd.concat([df_existing_votes, results_dynamic], ignore_index=True)\n",
    "df_final.to_csv(OUTPUT_CSV_VOTES, index=False, encoding=\"utf-8\")"
   ]
  },
  {
   "cell_type": "code",
   "execution_count": null,
   "id": "750b8310",
   "metadata": {},
   "outputs": [
    {
     "name": "stderr",
     "output_type": "stream",
     "text": [
      "C:\\Users\\lucas\\AppData\\Local\\Temp\\ipykernel_10796\\2007843504.py:26: DtypeWarning: Columns (3) have mixed types. Specify dtype option on import or set low_memory=False.\n",
      "  df_votes = pd.read_csv(VOTES_CSV)\n"
     ]
    },
    {
     "name": "stdout",
     "output_type": "stream",
     "text": [
      "✅ Inferências individuais adicionadas a: consolidated_classifications_with_vote.csv\n"
     ]
    }
   ],
   "source": [
    "import pandas as pd\n",
    "\n",
    "# Entradas e saídas\n",
    "INPUT_INFERENCES_CSV = \"consolidated_classifications.csv\"\n",
    "VOTES_CSV            = \"consolidated_classifications_with_vote.csv\"\n",
    "OUTPUT_CSV           = VOTES_CSV  # sobrescreve o mesmo\n",
    "\n",
    "# 1) Carrega inferências originais\n",
    "df_infer = pd.read_csv(INPUT_INFERENCES_CSV)\n",
    "df_infer[\"confidence\"] = pd.to_numeric(df_infer[\"confidence\"], errors=\"coerce\")\n",
    "df_infer = df_infer.dropna(subset=[\"confidence\"])\n",
    "\n",
    "# 2) Cria colunas de comitê para manter padrão com os votos\n",
    "df_infer[\"model_1\"] = df_infer[\"model\"]\n",
    "df_infer[\"model_2\"] = \"\"\n",
    "df_infer[\"model_3\"] = \"\"\n",
    "df_infer[\"vote\"] = \"original\"\n",
    "\n",
    "# Reordena colunas no mesmo formato do CSV de votos\n",
    "df_infer_final = df_infer[[\n",
    "    \"model_1\", \"model_2\", \"model_3\", \"test\",\n",
    "    \"font\", \"source_file\", \"type\", \"classification\", \"vote\"\n",
    "]]\n",
    "\n",
    "# 3) Carrega votos já existentes\n",
    "df_votes = pd.read_csv(VOTES_CSV)\n",
    "\n",
    "# 4) Junta tudo\n",
    "df_all = pd.concat([df_votes, df_infer_final], ignore_index=True)\n",
    "\n",
    "# 5) Salva\n",
    "df_all.to_csv(OUTPUT_CSV, index=False, encoding=\"utf-8\")\n"
   ]
  },
  {
   "cell_type": "markdown",
   "id": "8139370d",
   "metadata": {},
   "source": [
    "## Resultados"
   ]
  },
  {
   "cell_type": "markdown",
   "id": "46fd1130",
   "metadata": {},
   "source": [
    "### Gerando métricas finais"
   ]
  },
  {
   "cell_type": "code",
   "execution_count": null,
   "id": "4791e3b6",
   "metadata": {},
   "outputs": [
    {
     "name": "stderr",
     "output_type": "stream",
     "text": [
      "C:\\Users\\lucas\\AppData\\Local\\Temp\\ipykernel_10796\\227552256.py:8: DtypeWarning: Columns (2,3) have mixed types. Specify dtype option on import or set low_memory=False.\n",
      "  final_df = pd.read_csv(INPUT_FILE)\n"
     ]
    }
   ],
   "source": [
    "import pandas as pd\n",
    "import numpy as np\n",
    "\n",
    "INPUT_FILE = \"consolidated_classifications_with_vote.csv\"\n",
    "OUTPUT_FILE = \"consolidated_classifications_with_vote.csv\"\n",
    "\n",
    "# 4) Reabre e calcula métricas de avaliação (FP, FN, TP, TN)\n",
    "final_df = pd.read_csv(INPUT_FILE)\n",
    "\n",
    "final_df[\"false_positive\"] = np.where(\n",
    "    (final_df[\"type\"] == \"safe\") &\n",
    "    (final_df[\"classification\"] == \"INTERESTING\"),\n",
    "    1,\n",
    "    0\n",
    ")\n",
    "\n",
    "final_df[\"false_negative\"] = np.where(\n",
    "    (final_df[\"type\"] == \"attack\") &\n",
    "    (final_df[\"classification\"] == \"NOT INTERESTING\"),\n",
    "    1,\n",
    "    0\n",
    ")\n",
    "\n",
    "final_df[\"true_positive\"] = np.where(\n",
    "    (final_df[\"type\"] == \"attack\") &\n",
    "    (final_df[\"classification\"] == \"INTERESTING\"),\n",
    "    1,\n",
    "    0\n",
    ")\n",
    "\n",
    "final_df[\"true_negative\"] = np.where(\n",
    "    (final_df[\"type\"] == \"safe\") &\n",
    "    (final_df[\"classification\"] == \"NOT INTERESTING\"),\n",
    "    1,\n",
    "    0\n",
    ")\n",
    "\n",
    "# 5) Salva o CSV final consolidado\n",
    "final_df.to_csv(OUTPUT_FILE, index=False)\n"
   ]
  },
  {
   "cell_type": "code",
   "execution_count": null,
   "id": "81decba0",
   "metadata": {},
   "outputs": [
    {
     "name": "stderr",
     "output_type": "stream",
     "text": [
      "C:\\Users\\lucas\\AppData\\Local\\Temp\\ipykernel_10796\\505019614.py:4: DtypeWarning: Columns (2,3) have mixed types. Specify dtype option on import or set low_memory=False.\n",
      "  df = pd.read_csv(\"consolidated_classifications_with_vote.csv\")\n",
      "C:\\Users\\lucas\\AppData\\Local\\Temp\\ipykernel_10796\\505019614.py:39: DeprecationWarning: DataFrameGroupBy.apply operated on the grouping columns. This behavior is deprecated, and in a future version of pandas the grouping columns will be excluded from the operation. Either pass `include_groups=False` to exclude the groupings or explicitly select the grouping columns after groupby to silence this warning.\n",
      "  .apply(calcular_metricas)\n"
     ]
    }
   ],
   "source": [
    "import pandas as pd\n",
    "\n",
    "# Carrega o CSV\n",
    "df = pd.read_csv(\"consolidated_classifications_with_vote.csv\")\n",
    "\n",
    "# Garante que model_2 e model_3 existam e sejam strings (mesmo que vazias)\n",
    "for col in [\"model_2\", \"model_3\"]:\n",
    "    if col not in df.columns:\n",
    "        df[col] = \"\"\n",
    "    else:\n",
    "        df[col] = df[col].fillna(\"\").astype(str)\n",
    "\n",
    "# Função para calcular métricas por grupo (voto + modelos + fonte + teste)\n",
    "def calcular_metricas(grupo):\n",
    "    tp = grupo[\"true_positive\"].sum()\n",
    "    tn = grupo[\"true_negative\"].sum()\n",
    "    fp = grupo[\"false_positive\"].sum()\n",
    "    fn = grupo[\"false_negative\"].sum()\n",
    "\n",
    "    total = tp + tn + fp + fn\n",
    "\n",
    "    acc = (tp + tn) / total if total else 0\n",
    "    prec = tp / (tp + fp) if (tp + fp) else 0\n",
    "    rec = tp / (tp + fn) if (tp + fn) else 0\n",
    "    f1 = 2 * (prec * rec) / (prec + rec) if (prec + rec) else 0\n",
    "\n",
    "    return pd.Series({\n",
    "        \"accuracy\": acc,\n",
    "        \"precision\": prec,\n",
    "        \"recall\": rec,\n",
    "        \"f1_score\": f1\n",
    "    })\n",
    "\n",
    "# Agrupa por vote + modelos + font + test\n",
    "group_cols = [\"vote\", \"model_1\", \"model_2\", \"model_3\", \"font\"]\n",
    "\n",
    "metricas_por_grupo = (\n",
    "    df.groupby(group_cols)\n",
    "    .apply(calcular_metricas)\n",
    "    .reset_index()\n",
    ")\n",
    "\n",
    "# Exporta\n",
    "metricas_por_grupo.to_csv(\"result_table.csv\", decimal=\",\", sep=\";\", index=False)\n"
   ]
  },
  {
   "cell_type": "code",
   "execution_count": null,
   "id": "bf47ef96",
   "metadata": {},
   "outputs": [
    {
     "data": {
      "text/html": [
       "<div>\n",
       "<style scoped>\n",
       "    .dataframe tbody tr th:only-of-type {\n",
       "        vertical-align: middle;\n",
       "    }\n",
       "\n",
       "    .dataframe tbody tr th {\n",
       "        vertical-align: top;\n",
       "    }\n",
       "\n",
       "    .dataframe thead th {\n",
       "        text-align: right;\n",
       "    }\n",
       "</style>\n",
       "<table border=\"1\" class=\"dataframe\">\n",
       "  <thead>\n",
       "    <tr style=\"text-align: right;\">\n",
       "      <th></th>\n",
       "      <th>model</th>\n",
       "      <th>font</th>\n",
       "      <th>false_positive</th>\n",
       "      <th>false_negative</th>\n",
       "      <th>true_positive</th>\n",
       "      <th>true_negative</th>\n",
       "    </tr>\n",
       "  </thead>\n",
       "  <tbody>\n",
       "    <tr>\n",
       "      <th>0</th>\n",
       "      <td>deepseek-r1_14b</td>\n",
       "      <td>data</td>\n",
       "      <td>8</td>\n",
       "      <td>4</td>\n",
       "      <td>37</td>\n",
       "      <td>11</td>\n",
       "    </tr>\n",
       "    <tr>\n",
       "      <th>1</th>\n",
       "      <td>gemma3_12b</td>\n",
       "      <td>data</td>\n",
       "      <td>18</td>\n",
       "      <td>0</td>\n",
       "      <td>41</td>\n",
       "      <td>1</td>\n",
       "    </tr>\n",
       "    <tr>\n",
       "      <th>2</th>\n",
       "      <td>llama3.1</td>\n",
       "      <td>data</td>\n",
       "      <td>19</td>\n",
       "      <td>0</td>\n",
       "      <td>41</td>\n",
       "      <td>0</td>\n",
       "    </tr>\n",
       "    <tr>\n",
       "      <th>3</th>\n",
       "      <td>mistral-nemo</td>\n",
       "      <td>data</td>\n",
       "      <td>19</td>\n",
       "      <td>0</td>\n",
       "      <td>41</td>\n",
       "      <td>0</td>\n",
       "    </tr>\n",
       "    <tr>\n",
       "      <th>4</th>\n",
       "      <td>phi4</td>\n",
       "      <td>data</td>\n",
       "      <td>16</td>\n",
       "      <td>0</td>\n",
       "      <td>41</td>\n",
       "      <td>3</td>\n",
       "    </tr>\n",
       "    <tr>\n",
       "      <th>5</th>\n",
       "      <td>qwen3_14b</td>\n",
       "      <td>data</td>\n",
       "      <td>8</td>\n",
       "      <td>3</td>\n",
       "      <td>38</td>\n",
       "      <td>11</td>\n",
       "    </tr>\n",
       "    <tr>\n",
       "      <th>6</th>\n",
       "      <td>selecao_dinamica</td>\n",
       "      <td>data</td>\n",
       "      <td>13</td>\n",
       "      <td>1</td>\n",
       "      <td>40</td>\n",
       "      <td>6</td>\n",
       "    </tr>\n",
       "    <tr>\n",
       "      <th>7</th>\n",
       "      <td>voto_majoritario</td>\n",
       "      <td>data</td>\n",
       "      <td>11</td>\n",
       "      <td>1</td>\n",
       "      <td>40</td>\n",
       "      <td>8</td>\n",
       "    </tr>\n",
       "    <tr>\n",
       "      <th>8</th>\n",
       "      <td>voto_ponderado</td>\n",
       "      <td>data</td>\n",
       "      <td>11</td>\n",
       "      <td>1</td>\n",
       "      <td>40</td>\n",
       "      <td>8</td>\n",
       "    </tr>\n",
       "  </tbody>\n",
       "</table>\n",
       "</div>"
      ],
      "text/plain": [
       "              model  font  false_positive  false_negative  true_positive  \\\n",
       "0   deepseek-r1_14b  data               8               4             37   \n",
       "1        gemma3_12b  data              18               0             41   \n",
       "2          llama3.1  data              19               0             41   \n",
       "3      mistral-nemo  data              19               0             41   \n",
       "4              phi4  data              16               0             41   \n",
       "5         qwen3_14b  data               8               3             38   \n",
       "6  selecao_dinamica  data              13               1             40   \n",
       "7  voto_majoritario  data              11               1             40   \n",
       "8    voto_ponderado  data              11               1             40   \n",
       "\n",
       "   true_negative  \n",
       "0             11  \n",
       "1              1  \n",
       "2              0  \n",
       "3              0  \n",
       "4              3  \n",
       "5             11  \n",
       "6              6  \n",
       "7              8  \n",
       "8              8  "
      ]
     },
     "metadata": {},
     "output_type": "display_data"
    }
   ],
   "source": [
    "import pandas as pd\n",
    "\n",
    "df = pd.read_csv(\"consolidated_classifications.csv\")\n",
    "\n",
    "grouped = df.groupby([\"model\", \"font\"])[\n",
    "    [\"false_positive\", \"false_negative\", \"true_positive\", \"true_negative\"]\n",
    "].sum().reset_index()\n",
    "\n",
    "display(grouped)\n",
    "grouped.to_csv(\"result_table_brute.csv\", decimal=',', sep=';', index=False)"
   ]
  },
  {
   "cell_type": "code",
   "execution_count": null,
   "id": "39520a0b",
   "metadata": {},
   "outputs": [
    {
     "name": "stderr",
     "output_type": "stream",
     "text": [
      "C:\\Users\\lucas\\AppData\\Local\\Temp\\ipykernel_10796\\3365784632.py:1: DtypeWarning: Columns (2,3) have mixed types. Specify dtype option on import or set low_memory=False.\n",
      "  df = pd.read_csv(\"consolidated_classifications_with_vote.csv\")\n"
     ]
    },
    {
     "data": {
      "text/plain": [
       "300"
      ]
     },
     "metadata": {},
     "output_type": "display_data"
    },
    {
     "data": {
      "text/plain": [
       "6"
      ]
     },
     "metadata": {},
     "output_type": "display_data"
    },
    {
     "data": {
      "text/plain": [
       "5"
      ]
     },
     "metadata": {},
     "output_type": "display_data"
    }
   ],
   "source": [
    "df = pd.read_csv(\"consolidated_classifications_with_vote.csv\")\n",
    "display(df[\"source_file\"].nunique())\n",
    "display(df[\"test\"].nunique())\n",
    "display(df[\"font\"].nunique())"
   ]
  }
 ],
 "metadata": {
  "kernelspec": {
   "display_name": ".venv",
   "language": "python",
   "name": "python3"
  },
  "language_info": {
   "codemirror_mode": {
    "name": "ipython",
    "version": 3
   },
   "file_extension": ".py",
   "mimetype": "text/x-python",
   "name": "python",
   "nbconvert_exporter": "python",
   "pygments_lexer": "ipython3",
   "version": "3.13.1"
  }
 },
 "nbformat": 4,
 "nbformat_minor": 5
}
